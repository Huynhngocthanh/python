{
  "nbformat": 4,
  "nbformat_minor": 0,
  "metadata": {
    "kernelspec": {
      "display_name": "Python 3",
      "language": "python",
      "name": "python3"
    },
    "language_info": {
      "codemirror_mode": {
        "name": "ipython",
        "version": 3
      },
      "file_extension": ".py",
      "mimetype": "text/x-python",
      "name": "python",
      "nbconvert_exporter": "python",
      "pygments_lexer": "ipython3",
      "version": "3.7.3"
    },
    "colab": {
      "name": "bai-tap-sinh-mau-ngau-nhien.ipynb",
      "provenance": [],
      "include_colab_link": true
    }
  },
  "cells": [
    {
      "cell_type": "markdown",
      "metadata": {
        "id": "view-in-github",
        "colab_type": "text"
      },
      "source": [
        "<a href=\"https://colab.research.google.com/github/Huynhngocthanh/python/blob/main/bai_tap_sinh_mau_ngau_nhien.ipynb\" target=\"_parent\"><img src=\"https://colab.research.google.com/assets/colab-badge.svg\" alt=\"Open In Colab\"/></a>"
      ]
    },
    {
      "cell_type": "markdown",
      "metadata": {
        "id": "-JMZ7s68U4wl"
      },
      "source": [
        "Sử dụng thư viện Numpy\n",
        "\n",
        "1. Sinh mẫu ngẫu nhiên bằng hàm arange trong khoảng [-15, 27] với khoảng cách là 0.7 và in kết quả ra màn hình"
      ]
    },
    {
      "cell_type": "code",
      "metadata": {
        "id": "-qsOzgjvU4wt",
        "outputId": "b225d14b-7857-471c-dc00-0d766b4cb921",
        "colab": {
          "base_uri": "https://localhost:8080/"
        }
      },
      "source": [
        "import numpy as np\n",
        "\n",
        "a = np.arange(-15, 27, 0.7)\n",
        "print(a)"
      ],
      "execution_count": 9,
      "outputs": [
        {
          "output_type": "stream",
          "text": [
            "[-15.  -14.3 -13.6 -12.9 -12.2 -11.5 -10.8 -10.1  -9.4  -8.7  -8.   -7.3\n",
            "  -6.6  -5.9  -5.2  -4.5  -3.8  -3.1  -2.4  -1.7  -1.   -0.3   0.4   1.1\n",
            "   1.8   2.5   3.2   3.9   4.6   5.3   6.    6.7   7.4   8.1   8.8   9.5\n",
            "  10.2  10.9  11.6  12.3  13.   13.7  14.4  15.1  15.8  16.5  17.2  17.9\n",
            "  18.6  19.3  20.   20.7  21.4  22.1  22.8  23.5  24.2  24.9  25.6  26.3\n",
            "  27. ]\n"
          ],
          "name": "stdout"
        }
      ]
    },
    {
      "cell_type": "markdown",
      "metadata": {
        "id": "7t_5JIdhU4wv"
      },
      "source": [
        "2. Sinh mẫu ngẫu nhiên theo phân phối chuẩn với mean = 2.7 std = 1.2 và size = 40\n",
        "In kết quả ra màn hình"
      ]
    },
    {
      "cell_type": "code",
      "metadata": {
        "id": "Go1aTaWVU4wv",
        "outputId": "ba17654c-812d-4a81-d58f-59beef4641ea",
        "colab": {
          "base_uri": "https://localhost:8080/"
        }
      },
      "source": [
        "b = np.random.normal(2.7, 1.2, 40)\n",
        "print(b)"
      ],
      "execution_count": 10,
      "outputs": [
        {
          "output_type": "stream",
          "text": [
            "[ 4.02051887  3.27260324  1.09906368  2.05323783  4.41391363  3.66262489\n",
            "  4.40338731  3.68634306 -0.67355187  1.7387986   3.37330603  5.28132724\n",
            "  4.72906211  2.36435818  2.61078558  5.3124879   1.91933535  3.07503078\n",
            "  4.75401757  1.14271722  2.79699631  0.77529522  3.63578696  3.73728352\n",
            "  3.58828285  3.22279716  1.49896546  1.99704254  3.31325748  2.79636779\n",
            "  2.69378268  2.72195066  3.28839513 -0.05488021  3.99945602  2.49534196\n",
            "  3.99770117  3.88859876  2.25246631  4.86672635]\n"
          ],
          "name": "stdout"
        }
      ]
    },
    {
      "cell_type": "markdown",
      "metadata": {
        "id": "r0C9sz1OU4ww"
      },
      "source": [
        "3. Sinh mẫu ngẫu nhiên từ vector ['Viet Nam', 'Britain', 'France', 'Russia', 'Singapore'] \n",
        "\n",
        "với kích thước là 17 theo phân phối chuẩn"
      ]
    },
    {
      "cell_type": "code",
      "metadata": {
        "id": "uwiVBsdzU4ww",
        "outputId": "405bf908-e1b0-4c48-b987-9f0bd40db268",
        "colab": {
          "base_uri": "https://localhost:8080/"
        }
      },
      "source": [
        "c = np.random.choice(['Viet Nam', 'Britain', 'France', 'Russia', 'Singapore'], 17)\n",
        "print(c)"
      ],
      "execution_count": 11,
      "outputs": [
        {
          "output_type": "stream",
          "text": [
            "['Singapore' 'France' 'Viet Nam' 'Singapore' 'Viet Nam' 'Russia' 'France'\n",
            " 'France' 'Viet Nam' 'Britain' 'Viet Nam' 'France' 'Russia' 'Singapore'\n",
            " 'Russia' 'Britain' 'Viet Nam']\n"
          ],
          "name": "stdout"
        }
      ]
    },
    {
      "cell_type": "markdown",
      "metadata": {
        "id": "FY_ws6P_U4wx"
      },
      "source": [
        "4. Sinh mẫu ngẫu nhiên ở câu 3 nhưng không theo phân phối chuẩn mà theo 1 vector đặc tả giá trị xác suất do bạn chọn"
      ]
    },
    {
      "cell_type": "code",
      "metadata": {
        "id": "ToBNt59MU4wx",
        "outputId": "5928209e-1f56-40d2-c5f3-fe42934e540b",
        "colab": {
          "base_uri": "https://localhost:8080/"
        }
      },
      "source": [
        "d = np.random.choice(['Viet Nam', 'Britain', 'France', 'Russia', 'Singapore'], 17, p = [0.3, 0.3, 0.1, 0.1, 0.2])\n",
        "print(d)"
      ],
      "execution_count": 12,
      "outputs": [
        {
          "output_type": "stream",
          "text": [
            "['Viet Nam' 'Britain' 'Singapore' 'Britain' 'Russia' 'France' 'Russia'\n",
            " 'Viet Nam' 'Russia' 'Viet Nam' 'Viet Nam' 'Singapore' 'Viet Nam'\n",
            " 'Viet Nam' 'Russia' 'Viet Nam' 'Viet Nam']\n"
          ],
          "name": "stdout"
        }
      ]
    },
    {
      "cell_type": "markdown",
      "metadata": {
        "id": "aQIm1ibpU4wx"
      },
      "source": [
        "Sử dụng thư việc scipy.stats để sinh mẫu ngẫu nhiên\n",
        "\n",
        "1. Sinh mẫu ngẫu nhiên theo phân phối chuẩn với mean = 12.7, std = 2.6 và size = 30. In kết quả ra màn hình"
      ]
    },
    {
      "cell_type": "code",
      "metadata": {
        "id": "tdkcuTb8U4wy",
        "outputId": "0b703221-97a1-42de-80c1-7944c876bfe8",
        "colab": {
          "base_uri": "https://localhost:8080/"
        }
      },
      "source": [
        "from scipy import stats\n",
        "\n",
        "e = stats.norm.rvs(12.7, 2.6, 30)\n",
        "print(e)"
      ],
      "execution_count": 19,
      "outputs": [
        {
          "output_type": "stream",
          "text": [
            "[ 9.7277887  16.16170375 17.0736042  12.74500632 13.44255481  6.69243972\n",
            " 15.80016566 15.71941196 15.19557596 14.23541962 15.45261576 14.21433491\n",
            " 14.59679412 17.02394926 16.6693304  11.82543678  7.43783624 12.06096158\n",
            " 12.28185359 14.57727737  9.03162113 17.5331273   9.76349591 11.43844532\n",
            "  9.81223255 14.1013239  10.23368593 13.98512396  8.74607628 11.0274944 ]\n"
          ],
          "name": "stdout"
        }
      ]
    },
    {
      "cell_type": "markdown",
      "metadata": {
        "id": "aJHt-OTlU4wy"
      },
      "source": [
        "2. Hãy sinh một mẫu ngẫu nhiên theo phân phối Poisson"
      ]
    },
    {
      "cell_type": "code",
      "metadata": {
        "id": "jzWUYIbzU4wy",
        "outputId": "54f9a6ec-88fb-493b-c093-6a8abcb73af8",
        "colab": {
          "base_uri": "https://localhost:8080/"
        }
      },
      "source": [
        "f = stats.poisson.rvs(12, 2, 30)\n",
        "print(f)"
      ],
      "execution_count": 20,
      "outputs": [
        {
          "output_type": "stream",
          "text": [
            "[16  8 15 17 10 15 14 14 17 13 18 19  9 16 20 19 16 15 16 14 12 10 12 21\n",
            " 12 18 13 13 12 18]\n"
          ],
          "name": "stdout"
        }
      ]
    },
    {
      "cell_type": "code",
      "metadata": {
        "id": "adihQ4GSU4wz"
      },
      "source": [
        ""
      ],
      "execution_count": null,
      "outputs": []
    }
  ]
}