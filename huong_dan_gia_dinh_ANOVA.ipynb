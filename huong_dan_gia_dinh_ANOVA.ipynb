{
  "nbformat": 4,
  "nbformat_minor": 0,
  "metadata": {
    "kernelspec": {
      "display_name": "Python 3",
      "language": "python",
      "name": "python3"
    },
    "language_info": {
      "codemirror_mode": {
        "name": "ipython",
        "version": 3
      },
      "file_extension": ".py",
      "mimetype": "text/x-python",
      "name": "python",
      "nbconvert_exporter": "python",
      "pygments_lexer": "ipython3",
      "version": "3.7.3"
    },
    "colab": {
      "name": "huong-dan-gia-dinh-ANOVA.ipynb",
      "provenance": [],
      "include_colab_link": true
    }
  },
  "cells": [
    {
      "cell_type": "markdown",
      "metadata": {
        "id": "view-in-github",
        "colab_type": "text"
      },
      "source": [
        "<a href=\"https://colab.research.google.com/github/Huynhngocthanh/python/blob/main/huong_dan_gia_dinh_ANOVA.ipynb\" target=\"_parent\"><img src=\"https://colab.research.google.com/assets/colab-badge.svg\" alt=\"Open In Colab\"/></a>"
      ]
    },
    {
      "cell_type": "markdown",
      "metadata": {
        "id": "5tqVsW9x6Y_v"
      },
      "source": [
        "PHÂN TÍCH ANOVA MỘT CHIỀU\n",
        "\n",
        "Phân tích ANOVA chấp nhận các giả định sau:\n",
        "\n",
        "(1) Tất cả các nhóm đều độc lập với nhau\n",
        "\n",
        "(2) Dữ liệu của mỗi nhóm đều tuân theo phân phối chuẩn. Tính chất này có thể được kiểm định bằng phương pháp Shapiro-Wilks.\n",
        "\n",
        "(3) Phương sai (variance) của các nhóm bằng nhau. Tính chất này có thể được kiểm định bằng phương pháp kiểm định Bartlett hay Levene.\n",
        "\n",
        "Nếu dữ liệu hiện có thỏa mãn các tính chất trên thì chúng ta mới tiến hành kiểm định ANOVA. Do vậy trước khi tiến hành kiểm định ANOVA, chúng ta cần thực hiện kiểm tra tập dữ liệu cần thỏa mãn 3 tính chất trên.\n",
        "    "
      ]
    },
    {
      "cell_type": "code",
      "metadata": {
        "id": "ywA2-hWN6rDl"
      },
      "source": [
        "from scipy import stats\n",
        "import numpy as np\n",
        "import pandas as pd\n",
        "from scipy.stats import bartlett"
      ],
      "execution_count": 1,
      "outputs": []
    },
    {
      "cell_type": "code",
      "metadata": {
        "id": "q13y3K0O6Y_3",
        "colab": {
          "base_uri": "https://localhost:8080/"
        },
        "outputId": "f01bf938-b2f7-4503-8df1-a5ac0ac420ba"
      },
      "source": [
        "#Bước 1: Hãy tạo một tập dữ liệu mẫu sample_1 với kích thước 100 tuân theo phân phối chuẩn, mean = 25, std = 0.5\n",
        "sample_1 = stats.norm.rvs(loc=25, scale=0.25, size=100)\n",
        "print(sample_1[:10])"
      ],
      "execution_count": 2,
      "outputs": [
        {
          "output_type": "stream",
          "text": [
            "[25.5004884  24.75264046 24.63335399 25.30832142 25.18632676 24.90960117\n",
            " 24.83734279 24.71206659 25.1974011  25.19175595]\n"
          ],
          "name": "stdout"
        }
      ]
    },
    {
      "cell_type": "code",
      "metadata": {
        "id": "ntIfozl-6Y_5",
        "colab": {
          "base_uri": "https://localhost:8080/"
        },
        "outputId": "d13363c8-70cc-4fa6-9020-3e0ec72cd19c"
      },
      "source": [
        "#Bước 2: hãy tạo tập dữ liệu mẫu sample_2 với kích thước 100 tuân theo phân phối Poisson\n",
        "sample_2 = stats.poisson.rvs(25, 1, 100)\n",
        "print(sample_2[:10])"
      ],
      "execution_count": 3,
      "outputs": [
        {
          "output_type": "stream",
          "text": [
            "[32 28 34 21 19 22 29 22 18 25]\n"
          ],
          "name": "stdout"
        }
      ]
    },
    {
      "cell_type": "markdown",
      "metadata": {
        "id": "vQTHvST56Y_5"
      },
      "source": [
        "Hãy tham khảo các hướng dẫn sau để kiểm định tính chất thứ 2 bằng phương pháp Shapiro-Wilks đối với sample_1 và sample_2\n",
        "\n",
        "(1) [Tài liệu tham khảo scipy](https://docs.scipy.org/doc/scipy/reference/generated/scipy.stats.shapiro.html)\n",
        "\n",
        "(2) [Hướng dẫn cụ thể của statology](https://www.statology.org/shapiro-wilk-test-python/)"
      ]
    },
    {
      "cell_type": "code",
      "metadata": {
        "id": "BWA6APEG6Y_6",
        "colab": {
          "base_uri": "https://localhost:8080/"
        },
        "outputId": "ffbcd488-a363-4309-a2ac-475497b7dadc"
      },
      "source": [
        "#Code kiểm định tính chất thứ 2 của sample_1 và sample_2\n",
        "print(\"Thử nghiệm Shapiro-Wilk tuân theo phân phối chuẩn\")\n",
        "shapiro_test1 = stats.shapiro(sample_1) \n",
        "print(\"Statistic =\", shapiro_test1[0], \"\\n\",\n",
        "      \"p value =\", shapiro_test1[1])\n",
        "print(\"-\"*50)\n",
        "\n",
        "print(\"Thử nghiệm Shapiro-Wilk tuân theo phân phối Poisson\")\n",
        "shapiro_test2 = stats.shapiro(sample_2)\n",
        "print(\"Statistic =\", shapiro_test2[0], \"\\n\",\n",
        "      \"p value =\", shapiro_test2[1])"
      ],
      "execution_count": 4,
      "outputs": [
        {
          "output_type": "stream",
          "text": [
            "Thử nghiệm Shapiro-Wilk tuân theo phân phối chuẩn\n",
            "Statistic = 0.9897934198379517 \n",
            " p value = 0.6479035019874573\n",
            "--------------------------------------------------\n",
            "Thử nghiệm Shapiro-Wilk tuân theo phân phối Poisson\n",
            "Statistic = 0.9741002321243286 \n",
            " p value = 0.045890048146247864\n"
          ],
          "name": "stdout"
        }
      ]
    },
    {
      "cell_type": "markdown",
      "metadata": {
        "id": "VC7KtP7c6Y_6"
      },
      "source": [
        "Hãy tham khảo các hướng dẫn sau để kiểm định tính chất thứ 3 bằng kiểm định Bartlett hoặc kiểm định Levene\n",
        "\n",
        "(1) [Hướng dẫn tổng quát](https://www.marsja.se/levenes-bartletts-test-of-equality-homogeneity-of-variance-in-python/)\n",
        "\n",
        "(2) [Hướng dẫn ở stackoverflow](https://stackoverflow.com/questions/36141254/how-to-test-for-homoscedasticity-having-the-same-population-variance-in-python)\n",
        "\n",
        "(3) Sử dụng bài giảng về kiểm định Bartlett và Levene ở buổi trước"
      ]
    },
    {
      "cell_type": "code",
      "metadata": {
        "id": "kadwWd8t6Y_6"
      },
      "source": [
        "#Code kiểm định tính đồng nhất về phương sai của các nhóm"
      ],
      "execution_count": 5,
      "outputs": []
    },
    {
      "cell_type": "code",
      "metadata": {
        "id": "XmDvBStW6Y_6",
        "colab": {
          "base_uri": "https://localhost:8080/",
          "height": 204
        },
        "outputId": "b4e96a4f-5dca-4c7d-e069-f186902557c7"
      },
      "source": [
        "#Sinh ngẫu nhiên\n",
        "kinh_doanh = np.random.choice(10, 35)\n",
        "tieng_anh = np.random.choice(10, 35)\n",
        "toan = np.random.choice(10, 35)\n",
        "tam_ly = np.random.choice(10, 35)\n",
        "\n",
        "lists = list(zip(kinh_doanh, tieng_anh, toan, tam_ly))\n",
        "df = pd.DataFrame(lists, columns = [\"kinh doanh\", \"tieng anh\", \"toan\", \"tam ly\"])\n",
        "df.head()"
      ],
      "execution_count": 8,
      "outputs": [
        {
          "output_type": "execute_result",
          "data": {
            "text/html": [
              "<div>\n",
              "<style scoped>\n",
              "    .dataframe tbody tr th:only-of-type {\n",
              "        vertical-align: middle;\n",
              "    }\n",
              "\n",
              "    .dataframe tbody tr th {\n",
              "        vertical-align: top;\n",
              "    }\n",
              "\n",
              "    .dataframe thead th {\n",
              "        text-align: right;\n",
              "    }\n",
              "</style>\n",
              "<table border=\"1\" class=\"dataframe\">\n",
              "  <thead>\n",
              "    <tr style=\"text-align: right;\">\n",
              "      <th></th>\n",
              "      <th>kinh doanh</th>\n",
              "      <th>tieng anh</th>\n",
              "      <th>toan</th>\n",
              "      <th>tam ly</th>\n",
              "    </tr>\n",
              "  </thead>\n",
              "  <tbody>\n",
              "    <tr>\n",
              "      <th>0</th>\n",
              "      <td>7</td>\n",
              "      <td>6</td>\n",
              "      <td>1</td>\n",
              "      <td>0</td>\n",
              "    </tr>\n",
              "    <tr>\n",
              "      <th>1</th>\n",
              "      <td>5</td>\n",
              "      <td>4</td>\n",
              "      <td>4</td>\n",
              "      <td>7</td>\n",
              "    </tr>\n",
              "    <tr>\n",
              "      <th>2</th>\n",
              "      <td>1</td>\n",
              "      <td>7</td>\n",
              "      <td>9</td>\n",
              "      <td>1</td>\n",
              "    </tr>\n",
              "    <tr>\n",
              "      <th>3</th>\n",
              "      <td>6</td>\n",
              "      <td>5</td>\n",
              "      <td>0</td>\n",
              "      <td>4</td>\n",
              "    </tr>\n",
              "    <tr>\n",
              "      <th>4</th>\n",
              "      <td>0</td>\n",
              "      <td>6</td>\n",
              "      <td>3</td>\n",
              "      <td>6</td>\n",
              "    </tr>\n",
              "  </tbody>\n",
              "</table>\n",
              "</div>"
            ],
            "text/plain": [
              "   kinh doanh  tieng anh  toan  tam ly\n",
              "0           7          6     1       0\n",
              "1           5          4     4       7\n",
              "2           1          7     9       1\n",
              "3           6          5     0       4\n",
              "4           0          6     3       6"
            ]
          },
          "metadata": {
            "tags": []
          },
          "execution_count": 8
        }
      ]
    },
    {
      "cell_type": "code",
      "metadata": {
        "id": "FywIYwXR8jvW",
        "colab": {
          "base_uri": "https://localhost:8080/"
        },
        "outputId": "90e04dc1-c187-4dd7-9cd3-73e772351bd5"
      },
      "source": [
        "#Lấy từng nhóm\n",
        "KD = df[\"kinh doanh\"].unique()\n",
        "TA = df[\"tieng anh\"].unique()\n",
        "T = df[\"toan\"].unique()\n",
        "TL = df[\"tam ly\"].unique()\n",
        "\n",
        "\n",
        "#Kiểm định bằng bartlett\n",
        "alpha = 0.5\n",
        "stat, pvalue = stats.bartlett(KD, TA, T, TL)\n",
        "print(\"Statistic =\", stat, \"\\n\",\n",
        "      \"p value =\", pvalue)\n",
        "if pvalue < alpha:\n",
        "  print(\"Chưa có bằng chứng thống kê để bác bỏ H0\")\n",
        "else:\n",
        "  print(\"Có bằng chứng thống kê để bác bỏ H0\")\n",
        "#Xem phương sai của từng biến\n",
        "b, e, m, p = [np.var(x, ddof=1) for x in [KD, TA, T, TL]]\n",
        "print(\"PS của kinh doanh =\", b, \"\\n\",\n",
        "     \"PS của tiếng anh =\", e, \"\\n\",\n",
        "     \"PS của toán =\", m, \"\\n\",\n",
        "     \"PS của tâm lý =\", p, \"\\n\",)\n",
        "\n",
        "print(\"-\"*50)\n",
        "\n",
        "#Kiểm định bằng Levene\n",
        "stat1, pvalue1 = stats.levene(KD, TA, T, TL)\n",
        "print(\"Statistic =\", stat1, \"\\n\",\n",
        "      \"p value =\", pvalue1)\n",
        "if pvalue1 < alpha:\n",
        "  print(\"Chưa có bằng chứng thống kê để bác bỏ H0\")\n",
        "else:\n",
        "  print(\"Có bằng chứng thống kê để bác bỏ H0\")\n",
        "#Xem phương sai của từng biến\n",
        "b, e, m, p = [np.var(x, ddof=1) for x in [KD, TA, T, TL]]\n",
        "print(\"PS của Bus =\", b, \"\\n\",\n",
        "      \"PS của Eng =\", e, \"\\n\",\n",
        "      \"PS của Math =\", m, \"\\n\",\n",
        "      \"PS của Psy =\", p, \"\\n\",)"
      ],
      "execution_count": 9,
      "outputs": [
        {
          "output_type": "stream",
          "text": [
            "Statistic = 0.011381300874380548 \n",
            " p value = 0.9996781716528096\n",
            "Có bằng chứng thống kê để bác bỏ H0\n",
            "PS của kinh doanh = 9.166666666666666 \n",
            " PS của tiếng anh = 8.61111111111111 \n",
            " PS của toán = 9.166666666666666 \n",
            " PS của tâm lý = 9.166666666666666 \n",
            "\n",
            "--------------------------------------------------\n",
            "Statistic = 0.02804487179487175 \n",
            " p value = 0.9935500917384613\n",
            "Có bằng chứng thống kê để bác bỏ H0\n",
            "PS của Bus = 9.166666666666666 \n",
            " PS của Eng = 8.61111111111111 \n",
            " PS của Math = 9.166666666666666 \n",
            " PS của Psy = 9.166666666666666 \n",
            "\n"
          ],
          "name": "stdout"
        }
      ]
    }
  ]
}