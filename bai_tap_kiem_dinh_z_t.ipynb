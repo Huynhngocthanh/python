{
  "nbformat": 4,
  "nbformat_minor": 0,
  "metadata": {
    "kernelspec": {
      "display_name": "Python 3",
      "language": "python",
      "name": "python3"
    },
    "language_info": {
      "codemirror_mode": {
        "name": "ipython",
        "version": 3
      },
      "file_extension": ".py",
      "mimetype": "text/x-python",
      "name": "python",
      "nbconvert_exporter": "python",
      "pygments_lexer": "ipython3",
      "version": "3.7.3"
    },
    "colab": {
      "name": "bai-tap-kiem-dinh-z-t.ipynb",
      "provenance": [],
      "include_colab_link": true
    }
  },
  "cells": [
    {
      "cell_type": "markdown",
      "metadata": {
        "id": "view-in-github",
        "colab_type": "text"
      },
      "source": [
        "<a href=\"https://colab.research.google.com/github/Huynhngocthanh/python/blob/main/bai_tap_kiem_dinh_z_t.ipynb\" target=\"_parent\"><img src=\"https://colab.research.google.com/assets/colab-badge.svg\" alt=\"Open In Colab\"/></a>"
      ]
    },
    {
      "cell_type": "markdown",
      "metadata": {
        "id": "vN0p6xuDGYZy"
      },
      "source": [
        "XÂY DỰNG CHƯƠNG TRÌNH KIỂM ĐỊNH Z (HOẶC T) CHO CÁC BÀI TẬP SAU\n",
        "\n",
        "Gợi ý:\n",
        "\n",
        "- Số liệu được sinh ngẫu nhiên theo phân phối chuẩn\n",
        "- Sử dụng gói phần mềm statsmodels để tiến hành kiểm định\n",
        "- Đối với các bài tập kiểm định giả thuyết thì sinh viên cần phát biểu các giả thuyết (bằng tiếng Việt) $H_{0}$ và $H_{a}$ trước khi lập trình kiểm định"
      ]
    },
    {
      "cell_type": "markdown",
      "metadata": {
        "id": "E7VTypn_GYZ3"
      },
      "source": [
        "Bài 1: You’re a Q/C inspector for Gallo. The sample standard deviation for 2-liter bottles is .05 liters.  A random sample of 100 bottles showed sasmple mean = 1.99 liters.  What is the 90%  confidence interval estimate of the true mean amount in 2-liter bottles? "
      ]
    },
    {
      "cell_type": "code",
      "metadata": {
        "colab": {
          "base_uri": "https://localhost:8080/"
        },
        "id": "7kxFcJ4YGYZ4",
        "outputId": "b6d29954-c763-4941-eb21-8f373ca349d7"
      },
      "source": [
        "import numpy as np\n",
        "import pandas as pd\n",
        "import random\n",
        "from scipy import stats\n",
        "from statsmodels.stats.weightstats import ztest\n",
        "from statsmodels.stats.weightstats import ttest_ind\n",
        "import warnings\n",
        "import matplotlib.pyplot as plt\n",
        "import seaborn as sns\n",
        "%matplotlib inline\n",
        "\n",
        "\n",
        "#Sinh ngẫu nhiên một mẫu 100 chai, có trung bình mẫu là 1.99, độ lệch chuẩn là 0.05\n",
        "sp1 = np.random.normal(1.99, 0.05, 100)\n",
        "#In 10 phần tử đầu tiên\n",
        "print(sp[:10])\n",
        "#Xác định các thông số\n",
        "mean1 = 2\n",
        "alpha1 = 0.1\n",
        "#Kiểm định z\n",
        "ztest_Score, p_value= ztest(sp1, value = mean1, alternative='larger')\n",
        "if(p_value1 <  alpha1):\n",
        "  print(\"Có bằng chứng để bác bỏ giả thuyết H0\")\n",
        "else:\n",
        "  print(\"Chưa có bằng chứng để bác bỏ giả thuyết H0\")\n",
        "ktc1 = stats.t.interval(0.9, len(sp1) - 1, mean1, scale = stats.sem(sp1))\n",
        "print(\"Với độ tin cậy 90% ,ktc = \", ktc1)"
      ],
      "execution_count": 76,
      "outputs": [
        {
          "output_type": "stream",
          "text": [
            "[1.97442787 1.95194701 1.96515864 1.99317192 1.98073609 2.02357568\n",
            " 1.98023388 2.0093881  1.94315299 2.01725552]\n",
            "Có bằng chứng để bác bỏ giả thuyết H0\n",
            "Với độ tin cậy 90% ,ktc =  (1.991486816121203, 2.0085131838787973)\n"
          ],
          "name": "stdout"
        }
      ]
    },
    {
      "cell_type": "markdown",
      "metadata": {
        "id": "apxrDZZEGYZ5"
      },
      "source": [
        "Bài 2: You’re a time study analyst in manufacturing.  You’ve recorded the following task times (min.): 3.6, 4.2, 4.0, 3.5, 3.8, 3.1. What is the 90% confidence interval estimate of the population mean task time? "
      ]
    },
    {
      "cell_type": "code",
      "metadata": {
        "colab": {
          "base_uri": "https://localhost:8080/"
        },
        "id": "hZoy7TBbGYZ5",
        "outputId": "c930dceb-bb3f-4400-c25e-e51c76ba2e9d"
      },
      "source": [
        "sp2 = [3.6, 4.2, 4.0, 3.5, 3.8, 3.1]\n",
        "mean2 = np.mean(time)\n",
        "std = np.std(time)\n",
        "print(\"mean = \", mean2, \"    \",\"std = \", std)\n",
        "ktc2 = stats.t.interval(0.9, len(sp2) - 1, mean2, scale = stats.sem(sp2))\n",
        "print(\"Với độ tin cậy 90% ,ktc = \", ktc2)"
      ],
      "execution_count": 68,
      "outputs": [
        {
          "output_type": "stream",
          "text": [
            "mean =  3.7000000000000006      std =  0.3559026084010437\n",
            "Với độ tin cậy 90% ,ktc =  (3.3792758632100677, 4.020724136789934)\n"
          ],
          "name": "stdout"
        }
      ]
    },
    {
      "cell_type": "markdown",
      "metadata": {
        "id": "2yDlHDvpGYZ5"
      },
      "source": [
        "Bài 3: Does an average box of cereal contain 368 grams of cereal?  A random sample of 25 boxes had $\\overline{\\rm x}$ = 372.5.  The company has specified $\\sigma$ to be 25 grams.  Test at the .05 level of significance."
      ]
    },
    {
      "cell_type": "markdown",
      "metadata": {
        "id": "lzXSmQLAiud_"
      },
      "source": [
        "Ho: μ = 368; Ha: μ ≠ 368"
      ]
    },
    {
      "cell_type": "code",
      "metadata": {
        "colab": {
          "base_uri": "https://localhost:8080/"
        },
        "id": "mK5V_eJHGYZ6",
        "outputId": "427ccda0-2a01-48be-9c4c-1c2cfdc39e25"
      },
      "source": [
        "#xác định thông số\n",
        "alpha3 = 0.05\n",
        "mean3 = 368\n",
        "\n",
        "#Sinh ngẫu nhiên một mẫu 25 phần tử có trung bình mẫu là 372.5, độ lệch chuẩn là 25\n",
        "sp3 = np.random.normal(372.5, 25, 25)\n",
        "#Kiểm định t\n",
        "ttest_Score, p_value = stats.ttest_1samp(sp3, mean3)\n",
        "print('t = ',ttest_Score,', p = ',p_value)\n",
        "if(p_value <  alpha3/2):\n",
        "  print(\"Có bằng chứng để bác bỏ giả thuyết H0\")\n",
        "else:\n",
        "  print(\"Chưa có bằng chứng để bác bỏ giả thuyết H0\")"
      ],
      "execution_count": 89,
      "outputs": [
        {
          "output_type": "stream",
          "text": [
            "t =  2.361619657968586 , p =  0.026650858104736195\n",
            "Chưa có bằng chứng để bác bỏ giả thuyết H0\n"
          ],
          "name": "stdout"
        }
      ]
    },
    {
      "cell_type": "markdown",
      "metadata": {
        "id": "lcjTlPgZGYZ6"
      },
      "source": [
        "Bài 4: You’re a Q/C inspector.  You want to find out if a new machine is making electrical cords to customer specification: average breaking strength of 70 lb. with $\\sigma$ = 3.5 lb.  You take a sample of 36 cords & compute a sample mean of 69.7 lb.  At the .05 level of significance, is there evidence that the machine is not meeting the average breaking strength?"
      ]
    },
    {
      "cell_type": "code",
      "metadata": {
        "colab": {
          "base_uri": "https://localhost:8080/"
        },
        "id": "pe7bsai6GYZ6",
        "outputId": "a7f7e528-86ac-407d-dad5-a7008e209734"
      },
      "source": [
        "sp4 = np.random.normal(69.7, 3.5, 36)\n",
        "mean4 = 70\n",
        "alpha4 = 0.05\n",
        "ztest_Score, p_value1= ztest(sp4, value = mean4, alternative='larger')\n",
        "if(p_value1 <  alpha4):\n",
        "  print(\"Có bằng chứng để bác bỏ giả thuyết H0\")\n",
        "else:\n",
        "  print(\"Chưa có bằng chứng để bác bỏ giả thuyết H0\")"
      ],
      "execution_count": 102,
      "outputs": [
        {
          "output_type": "stream",
          "text": [
            "Chưa có bằng chứng để bác bỏ giả thuyết H0\n"
          ],
          "name": "stdout"
        }
      ]
    },
    {
      "cell_type": "markdown",
      "metadata": {
        "id": "B_qIViJbGYZ6"
      },
      "source": [
        "Bài 5: Does an average box of cereal contain more than 368 grams of cereal?  A random sample of 25 boxes showed $\\overline{\\rm x}$ =  372.5.  The company has specified $\\sigma$ to be 25 grams.  Test at the .05 level of significance."
      ]
    },
    {
      "cell_type": "markdown",
      "metadata": {
        "id": "RSSR0zUElJzv"
      },
      "source": [
        "Ho: μ = 368; Ha: μ > 368\n"
      ]
    },
    {
      "cell_type": "code",
      "metadata": {
        "colab": {
          "base_uri": "https://localhost:8080/"
        },
        "id": "iU1ZA0npGYZ7",
        "outputId": "0590174f-9f0f-4291-8f25-4ccfe0c04fed"
      },
      "source": [
        "alpha5 = 0.05\n",
        "mean5 = 368\n",
        "\n",
        "#Sinh ngẫu nhiên một mẫu 25 phần tử có trung bình mẫu là 372.5, độ lệch chuẩn là 25\n",
        "sp5 = np.random.normal(372.5, 25, 25)\n",
        "#Kiểm định t\n",
        "\n",
        "ttest_Score, p_value = stats.ttest_1samp(sp5, mean5)\n",
        "\n",
        "print('t = ',ttest_Score,', p = ',p_value)\n",
        "if(p_value <  alpha5) and (ttest_Score > 0) :\n",
        "  print(\"Có bằng chứng để bác bỏ giả thuyết H0\")\n",
        "else:\n",
        "  print(\"Chưa có bằng chứng để bác bỏ giả thuyết H0\")"
      ],
      "execution_count": 90,
      "outputs": [
        {
          "output_type": "stream",
          "text": [
            "t =  1.312958348286483 , p =  0.20161327718838246\n",
            "Chưa có bằng chứng để bác bỏ giả thuyết H0\n"
          ],
          "name": "stdout"
        }
      ]
    },
    {
      "cell_type": "markdown",
      "metadata": {
        "id": "v_uc_D7XGYZ7"
      },
      "source": [
        "Bài 6: You’re an analyst for Ford.  You want to find out if the average miles per gallon of Escorts is at least 32 mpg. Similar models have a standard deviation of 3.8 mpg. You take a sample of 60 Escorts & compute a sample mean of 30.7 mpg. At the .01 level of significance, is there evidence that the miles per gallon is less than 32?"
      ]
    },
    {
      "cell_type": "markdown",
      "metadata": {
        "id": "LZjHz2D5mD3A"
      },
      "source": [
        "\n",
        "Ho: μ = 32; Ha: μ < 32"
      ]
    },
    {
      "cell_type": "code",
      "metadata": {
        "colab": {
          "base_uri": "https://localhost:8080/"
        },
        "id": "ZqbQjjtsGYZ7",
        "outputId": "c897e9af-b40d-4a05-e884-c58394288cd0"
      },
      "source": [
        "alpha6 = 0.01\n",
        "mean6 = 32\n",
        "#sinh ngẫu nhiên một mẫu 60 phần tử có trung bình mẫu là 30.7 độ lệch chuẩn là 3.8\n",
        "sp6 = np.random.normal(30.7,3.8,60)\n",
        "#kiểm định z\n",
        "ztest_Score, p_value= ztest(sp6, value = mean6, alternative='larger')\n",
        "print('z = ', ztest_Score, '; p = ', p_value)\n",
        "if (p_value <  alpha6)and (ztest_Score < 0):\n",
        "  print(\"Có bằng chứng để bác bỏ giả thuyết H0\")\n",
        "else:\n",
        "  print(\"Chưa có bằng chứng để bác bỏ giả thuyết H0\")"
      ],
      "execution_count": 93,
      "outputs": [
        {
          "output_type": "stream",
          "text": [
            "z =  -4.557495399089824 ; p =  0.9999974116387971\n",
            "Chưa có bằng chứng để bác bỏ giả thuyết H0\n"
          ],
          "name": "stdout"
        }
      ]
    },
    {
      "cell_type": "markdown",
      "metadata": {
        "id": "8hCCoTKdGYZ7"
      },
      "source": [
        "Bài 7: Does an average box of cereal contain 368 grams of cereal?  A random sample of 25 boxes showed $\\overline{\\rm x}$ = 372.5.  The company has specified $\\sigma$ to be 15 grams.  Find the p-Value."
      ]
    },
    {
      "cell_type": "markdown",
      "metadata": {
        "id": "fWyBoVTUmogX"
      },
      "source": [
        "Ho: μ = 368; Ha: μ ≠ 368\n",
        "\n"
      ]
    },
    {
      "cell_type": "code",
      "metadata": {
        "colab": {
          "base_uri": "https://localhost:8080/"
        },
        "id": "hkRT2VW_GYZ8",
        "outputId": "19f801fa-e945-458f-ca3c-e46cfd19b623"
      },
      "source": [
        "mean7 = 368\n",
        "#Sinh ngẫu nhiên một mẫu 25 phần tử có trung bình mẫu là 372.5, độ lệch chuẩn là 15\n",
        "sp7 = np.random.normal(372.5, 15, 25)\n",
        "#Kiểm định t\n",
        "ttest_Score, p_value = stats.ttest_1samp(sp7, mean7)\n",
        "print('p_value = ',p_value)"
      ],
      "execution_count": 98,
      "outputs": [
        {
          "output_type": "stream",
          "text": [
            "p_value =  0.32543224934959925\n"
          ],
          "name": "stdout"
        }
      ]
    },
    {
      "cell_type": "markdown",
      "metadata": {
        "id": "2VEIxNcBGYZ8"
      },
      "source": [
        "Bài 8: Does an average box of cereal contain more than 368 grams of cereal?  A random sample of 25 boxes showed $\\overline{\\rm x}$ = 372.5.  The company has specified $\\sigma$ to be 15 grams.  Find the p-Value."
      ]
    },
    {
      "cell_type": "markdown",
      "metadata": {
        "id": "aA2150eqnKIm"
      },
      "source": [
        "Ho: μ = 368; Ha: μ > 368"
      ]
    },
    {
      "cell_type": "code",
      "metadata": {
        "colab": {
          "base_uri": "https://localhost:8080/"
        },
        "id": "TPjcZBWNGYZ8",
        "outputId": "9c388d56-56e5-4a93-a001-b10d7f4f672b"
      },
      "source": [
        "mean8 = 368\n",
        "#Sinh ngẫu nhiên một mẫu 25 phần tử có trung bình mẫu là 372.5, độ lệch chuẩn là 15\n",
        "sp8 = np.random.normal(372.5, 15, 25)\n",
        "#Kiểm định t\n",
        "ttest_Score, p_value = stats.ttest_1samp(sp8, mean8)\n",
        "print('p_value = ',p_value)"
      ],
      "execution_count": 97,
      "outputs": [
        {
          "output_type": "stream",
          "text": [
            "p_value =  0.05674459736166456\n"
          ],
          "name": "stdout"
        }
      ]
    },
    {
      "cell_type": "markdown",
      "metadata": {
        "id": "YbWVta8JGYZ8"
      },
      "source": [
        "Bài 9: You’re an analyst for Ford.  You want to find out if the average miles per gallon of Escorts is less than 32 mpg.   Similar models have a standard deviation of 3.8 mpg.  You take a sample of 60 Escorts & compute a sample mean of 30.7 mpg.  What is the value of the observed level of significance (p-Value)?"
      ]
    },
    {
      "cell_type": "markdown",
      "metadata": {
        "id": "UjrTAH5Pn7iP"
      },
      "source": [
        "Ho: μ = 32; Ha: μ < 32"
      ]
    },
    {
      "cell_type": "code",
      "metadata": {
        "colab": {
          "base_uri": "https://localhost:8080/"
        },
        "id": "fjFQvrxpGYZ8",
        "outputId": "b658bb99-6340-4b67-bee6-a592ebc588b8"
      },
      "source": [
        "mean8 = 32\n",
        "#Sinh ngẫu nhiên một mẫu 60 phần tử có trung bình mẫu là 30.7, độ lệch chuẩn là 3.8\n",
        "sp8 = np.random.normal(30.7, 3.8, 60)\n",
        "#Kiểm định t\n",
        "ttest_Score, p_value = stats.ttest_1samp(sp8, mean8)\n",
        "print('p_value = ',p_value)"
      ],
      "execution_count": 99,
      "outputs": [
        {
          "output_type": "stream",
          "text": [
            "p_value =  0.00810705851141866\n"
          ],
          "name": "stdout"
        }
      ]
    },
    {
      "cell_type": "markdown",
      "metadata": {
        "id": "thpq9bk0GYZ8"
      },
      "source": [
        "Bài 10: Does an average box of cereal contain 368 grams of cereal?  A random sample of 36 boxes had a mean of 372.5 and a standard deviation of 12 grams. Test at the .05 level of significance."
      ]
    },
    {
      "cell_type": "markdown",
      "metadata": {
        "id": "tiNpFZatoUDo"
      },
      "source": [
        "Ho: μ = 368; Ha: μ ≠ 368\n",
        "\n"
      ]
    },
    {
      "cell_type": "code",
      "metadata": {
        "colab": {
          "base_uri": "https://localhost:8080/"
        },
        "id": "GZtNs9PfGYZ9",
        "outputId": "23195af5-4037-4448-c95e-76454415aba2"
      },
      "source": [
        "sp10 = np.random.normal(372.5, 12, 36)\n",
        "mean10 = 368\n",
        "alpha10 = 0.05\n",
        "ztest_Score, p_value1= ztest(sp10, value = mean10, alternative='larger')\n",
        "print('z = ', ztest_Score, '; p = ', p_value)\n",
        "if(p_value1 <  alpha10):\n",
        "  print(\"Có bằng chứng để bác bỏ giả thuyết H0\")\n",
        "else:\n",
        "  print(\"Chưa có bằng chứng để bác bỏ giả thuyết H0\")"
      ],
      "execution_count": 104,
      "outputs": [
        {
          "output_type": "stream",
          "text": [
            "z =  1.9217125416576275 ; p =  0.00810705851141866\n",
            "Có bằng chứng để bác bỏ giả thuyết H0\n"
          ],
          "name": "stdout"
        }
      ]
    },
    {
      "cell_type": "markdown",
      "metadata": {
        "id": "7nmgAXmWGYZ9"
      },
      "source": [
        "Bài 11: You work for the FTC.  A manufacturer of detergent claims that the mean weight of detergent is 3.25 lb.  You take a random sample of 64 containers.  You calculate the sample average to be 3.238 lb. with a standard deviation of .117 lb.  At the .01 level of significance, is the manufacturer correct?"
      ]
    },
    {
      "cell_type": "markdown",
      "metadata": {
        "id": "6AOvbqTXodkf"
      },
      "source": [
        "Ho: μ = 3.25; Ha: μ ≠ 3.25\n",
        "\n"
      ]
    },
    {
      "cell_type": "code",
      "metadata": {
        "colab": {
          "base_uri": "https://localhost:8080/"
        },
        "id": "lEmOAfNzGYZ9",
        "outputId": "b6b36cbd-eec0-4e6f-ee9a-475b1eb85141"
      },
      "source": [
        "sp11 = np.random.normal(3.238, 0.117, 64)\n",
        "mean11 = 3.25\n",
        "alpha11 = 0.01\n",
        "ztest_Score, p_value1= ztest(sp11, value = mean11, alternative='larger')\n",
        "print('z = ', ztest_Score, '; p = ', p_value)\n",
        "if(p_value1 <  alpha11/2):\n",
        "  print(\"Có bằng chứng để bác bỏ giả thuyết H0\")\n",
        "else:\n",
        "  print(\"Chưa có bằng chứng để bác bỏ giả thuyết H0\")"
      ],
      "execution_count": 103,
      "outputs": [
        {
          "output_type": "stream",
          "text": [
            "z =  -1.8506138133696781 ; p =  0.00810705851141866\n",
            "Chưa có bằng chứng để bác bỏ giả thuyết H0\n"
          ],
          "name": "stdout"
        }
      ]
    },
    {
      "cell_type": "markdown",
      "metadata": {
        "id": "76PRiqEGGYZ9"
      },
      "source": [
        "Bài 12: Is the average capacity of batteries less than 140 ampere-hours?  A random sample of 20 batteries had a mean of 138.47 and a standard deviation of 2.66.  Assume a normal distribution. Test at the .05 level of significance."
      ]
    },
    {
      "cell_type": "markdown",
      "metadata": {
        "id": "KfNvPYC2pGOZ"
      },
      "source": [
        "H0: μ = 140; Ha: μ > 140"
      ]
    },
    {
      "cell_type": "code",
      "metadata": {
        "colab": {
          "base_uri": "https://localhost:8080/"
        },
        "id": "GVTtQa4sGYZ9",
        "outputId": "0dc093dc-5d98-4048-c7cc-7dfd2ad70afa"
      },
      "source": [
        "sp12 = np.random.normal(138.47, 2.66, 20)\n",
        "mean12 = 140\n",
        "alpha12 = 0.05\n",
        "#Kiểm định t\n",
        "ttest_Score, p_value = stats.ttest_1samp(sp12, mean12)\n",
        "print('t = ',ttest_Score,', p = ',p_value)\n",
        "if(p_value <  alpha12) and (ttest_Score>0):\n",
        "  print(\"Có bằng chứng để bác bỏ giả thuyết H0\")\n",
        "else:\n",
        "  print(\"Chưa có bằng chứng để bác bỏ giả thuyết H0\")"
      ],
      "execution_count": 105,
      "outputs": [
        {
          "output_type": "stream",
          "text": [
            "t =  -1.4147276694764377 , p =  0.17332839178664397\n",
            "Chưa có bằng chứng để bác bỏ giả thuyết H0\n"
          ],
          "name": "stdout"
        }
      ]
    },
    {
      "cell_type": "markdown",
      "metadata": {
        "id": "WGCe-FDVGYZ9"
      },
      "source": [
        "Bài 13: You’re a marketing analyst for Wal-Mart.  Wal-Mart had teddy bears on sale last week.  The weekly sales of bears sold in 10 stores was: 8  11  0   4   7   8   10   5   8   3. At the .05 level of significance, is there evidence that the average bear sales per store is more than 5?"
      ]
    },
    {
      "cell_type": "markdown",
      "metadata": {
        "id": "Cl0Rmd57ppxo"
      },
      "source": [
        "H0: μ = 5; Ha: μ > 5"
      ]
    },
    {
      "cell_type": "code",
      "metadata": {
        "colab": {
          "base_uri": "https://localhost:8080/"
        },
        "id": "k4KUqsk1GYZ-",
        "outputId": "9e8d21cf-411f-42af-fd8c-c3b5f15557db"
      },
      "source": [
        "sp13 = [8, 11, 0, 4, 7, 8, 10, 5, 8, 3]\n",
        "mean13 = np.mean(sp12)\n",
        "alpha13 = 0.05\n",
        "#Kiểm định t\n",
        "ttest_Score, p_value = stats.ttest_1samp(sp13, mean13)\n",
        "print('t = ',ttest_Score,', p = ',p_value)\n",
        "if(p_value <  alpha13) and (ttest_Score > 0):\n",
        "  print(\"Có bằng chứng để bác bỏ giả thuyết H0\")\n",
        "else:\n",
        "  print(\"Chưa có bằng chứng để bác bỏ giả thuyết H0\")"
      ],
      "execution_count": 106,
      "outputs": [
        {
          "output_type": "stream",
          "text": [
            "t =  -124.72261210616107 , p =  6.955629344562186e-16\n",
            "Chưa có bằng chứng để bác bỏ giả thuyết H0\n"
          ],
          "name": "stdout"
        }
      ]
    },
    {
      "cell_type": "code",
      "metadata": {
        "id": "X1ZdyReQGYZ-"
      },
      "source": [
        ""
      ],
      "execution_count": null,
      "outputs": []
    }
  ]
}